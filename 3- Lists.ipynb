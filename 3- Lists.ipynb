{
 "cells": [
  {
   "cell_type": "code",
   "execution_count": 1,
   "id": "679aba71",
   "metadata": {},
   "outputs": [],
   "source": [
    "my_string=\"hello python\""
   ]
  },
  {
   "cell_type": "code",
   "execution_count": 2,
   "id": "27244a27",
   "metadata": {},
   "outputs": [
    {
     "data": {
      "text/plain": [
       "['hello', 'python']"
      ]
     },
     "execution_count": 2,
     "metadata": {},
     "output_type": "execute_result"
    }
   ],
   "source": [
    "my_string.split()"
   ]
  },
  {
   "cell_type": "code",
   "execution_count": 3,
   "id": "ddbed86a",
   "metadata": {},
   "outputs": [
    {
     "data": {
      "text/plain": [
       "list"
      ]
     },
     "execution_count": 3,
     "metadata": {},
     "output_type": "execute_result"
    }
   ],
   "source": [
    "type(my_string.split())"
   ]
  },
  {
   "cell_type": "markdown",
   "id": "f12f9694",
   "metadata": {},
   "source": [
    "# lists"
   ]
  },
  {
   "cell_type": "code",
   "execution_count": 5,
   "id": "2bb27683",
   "metadata": {},
   "outputs": [],
   "source": [
    "my_list = [10,20,30,40]"
   ]
  },
  {
   "cell_type": "code",
   "execution_count": 6,
   "id": "b80110c6",
   "metadata": {},
   "outputs": [
    {
     "data": {
      "text/plain": [
       "list"
      ]
     },
     "execution_count": 6,
     "metadata": {},
     "output_type": "execute_result"
    }
   ],
   "source": [
    "type(my_list)"
   ]
  },
  {
   "cell_type": "code",
   "execution_count": 8,
   "id": "273b4470",
   "metadata": {},
   "outputs": [],
   "source": [
    "a=10\n",
    "b=20\n",
    "c=30\n",
    "d=40"
   ]
  },
  {
   "cell_type": "code",
   "execution_count": 9,
   "id": "cc6b7918",
   "metadata": {},
   "outputs": [],
   "source": [
    "my_list = [a,b,c,d]"
   ]
  },
  {
   "cell_type": "code",
   "execution_count": 10,
   "id": "06504ba9",
   "metadata": {},
   "outputs": [
    {
     "data": {
      "text/plain": [
       "int"
      ]
     },
     "execution_count": 10,
     "metadata": {},
     "output_type": "execute_result"
    }
   ],
   "source": [
    "type(my_list[0])"
   ]
  },
  {
   "cell_type": "code",
   "execution_count": 11,
   "id": "b17ad7e7",
   "metadata": {},
   "outputs": [
    {
     "data": {
      "text/plain": [
       "10"
      ]
     },
     "execution_count": 11,
     "metadata": {},
     "output_type": "execute_result"
    }
   ],
   "source": [
    "my_list[0]"
   ]
  },
  {
   "cell_type": "code",
   "execution_count": 15,
   "id": "ad48ff63",
   "metadata": {},
   "outputs": [],
   "source": [
    "my_list = [1,2,3,4,5,6,7,8,9,10]"
   ]
  },
  {
   "cell_type": "code",
   "execution_count": 16,
   "id": "2b0c76db",
   "metadata": {},
   "outputs": [],
   "source": [
    "my_list[0] = 100"
   ]
  },
  {
   "cell_type": "code",
   "execution_count": 17,
   "id": "accf3c02",
   "metadata": {},
   "outputs": [
    {
     "data": {
      "text/plain": [
       "[100, 2, 3, 4, 5, 6, 7, 8, 9, 10]"
      ]
     },
     "execution_count": 17,
     "metadata": {},
     "output_type": "execute_result"
    }
   ],
   "source": [
    "my_list"
   ]
  },
  {
   "cell_type": "code",
   "execution_count": 18,
   "id": "ef321456",
   "metadata": {},
   "outputs": [],
   "source": [
    "# mutable, mutability\n",
    "# değiştirilebilirlik"
   ]
  },
  {
   "cell_type": "code",
   "execution_count": 19,
   "id": "750c2d70",
   "metadata": {},
   "outputs": [
    {
     "data": {
      "text/plain": [
       "10"
      ]
     },
     "execution_count": 19,
     "metadata": {},
     "output_type": "execute_result"
    }
   ],
   "source": [
    "len(my_list)"
   ]
  },
  {
   "cell_type": "code",
   "execution_count": 20,
   "id": "ec1fbe5d",
   "metadata": {},
   "outputs": [
    {
     "data": {
      "text/plain": [
       "9"
      ]
     },
     "execution_count": 20,
     "metadata": {},
     "output_type": "execute_result"
    }
   ],
   "source": [
    "len(my_list) - 1"
   ]
  },
  {
   "cell_type": "code",
   "execution_count": 21,
   "id": "420e89d4",
   "metadata": {},
   "outputs": [
    {
     "data": {
      "text/plain": [
       "10"
      ]
     },
     "execution_count": 21,
     "metadata": {},
     "output_type": "execute_result"
    }
   ],
   "source": [
    "my_list[-1]"
   ]
  },
  {
   "cell_type": "markdown",
   "id": "ef2e5d4f",
   "metadata": {},
   "source": [
    "## liste özellikleri"
   ]
  },
  {
   "cell_type": "code",
   "execution_count": 22,
   "id": "8a16409a",
   "metadata": {},
   "outputs": [],
   "source": [
    "# my_list.append(11)"
   ]
  },
  {
   "cell_type": "code",
   "execution_count": 23,
   "id": "ee131b63",
   "metadata": {},
   "outputs": [],
   "source": [
    "my_list.append(11)"
   ]
  },
  {
   "cell_type": "code",
   "execution_count": 24,
   "id": "3509015f",
   "metadata": {},
   "outputs": [
    {
     "data": {
      "text/plain": [
       "[100, 2, 3, 4, 5, 6, 7, 8, 9, 10, 11]"
      ]
     },
     "execution_count": 24,
     "metadata": {},
     "output_type": "execute_result"
    }
   ],
   "source": [
    "my_list"
   ]
  },
  {
   "cell_type": "code",
   "execution_count": 25,
   "id": "98590088",
   "metadata": {},
   "outputs": [],
   "source": [
    "# append fonksiyonu da listeye yeni eleman ekleyebilir"
   ]
  },
  {
   "cell_type": "code",
   "execution_count": 26,
   "id": "9570d223",
   "metadata": {},
   "outputs": [],
   "source": [
    "# clear fonksiyonu listeyi temizler"
   ]
  },
  {
   "cell_type": "code",
   "execution_count": 28,
   "id": "40b27bec",
   "metadata": {},
   "outputs": [
    {
     "name": "stdout",
     "output_type": "stream",
     "text": [
      "Help on built-in function copy:\n",
      "\n",
      "copy() method of builtins.list instance\n",
      "    Return a shallow copy of the list.\n",
      "\n"
     ]
    }
   ],
   "source": [
    "help(my_list.copy)"
   ]
  },
  {
   "cell_type": "code",
   "execution_count": 30,
   "id": "f3e6c2d2",
   "metadata": {},
   "outputs": [
    {
     "data": {
      "text/plain": [
       "[100, 2, 3, 4, 5, 6, 7, 8, 9, 10, 11]"
      ]
     },
     "execution_count": 30,
     "metadata": {},
     "output_type": "execute_result"
    }
   ],
   "source": [
    "my_list.copy()"
   ]
  },
  {
   "cell_type": "code",
   "execution_count": 32,
   "id": "0187da32",
   "metadata": {},
   "outputs": [
    {
     "name": "stdout",
     "output_type": "stream",
     "text": [
      "Help on built-in function count:\n",
      "\n",
      "count(value, /) method of builtins.list instance\n",
      "    Return number of occurrences of value.\n",
      "\n"
     ]
    }
   ],
   "source": [
    "help(my_list.count)"
   ]
  },
  {
   "cell_type": "code",
   "execution_count": 33,
   "id": "b8f967c7",
   "metadata": {},
   "outputs": [
    {
     "data": {
      "text/plain": [
       "1"
      ]
     },
     "execution_count": 33,
     "metadata": {},
     "output_type": "execute_result"
    }
   ],
   "source": [
    "my_list.count(100)"
   ]
  },
  {
   "cell_type": "code",
   "execution_count": 34,
   "id": "2c5eafff",
   "metadata": {},
   "outputs": [],
   "source": [
    "# count ile kaç tane 100 var say dedik"
   ]
  },
  {
   "cell_type": "code",
   "execution_count": 35,
   "id": "6088e8a9",
   "metadata": {},
   "outputs": [
    {
     "data": {
      "text/plain": [
       "1"
      ]
     },
     "execution_count": 35,
     "metadata": {},
     "output_type": "execute_result"
    }
   ],
   "source": [
    "my_list.index(2)"
   ]
  },
  {
   "cell_type": "code",
   "execution_count": 36,
   "id": "cd9459ec",
   "metadata": {},
   "outputs": [
    {
     "data": {
      "text/plain": [
       "10"
      ]
     },
     "execution_count": 36,
     "metadata": {},
     "output_type": "execute_result"
    }
   ],
   "source": [
    "my_list.index(11)"
   ]
  },
  {
   "cell_type": "code",
   "execution_count": 37,
   "id": "272c93c7",
   "metadata": {},
   "outputs": [
    {
     "name": "stdout",
     "output_type": "stream",
     "text": [
      "Help on built-in function insert:\n",
      "\n",
      "insert(index, object, /) method of builtins.list instance\n",
      "    Insert object before index.\n",
      "\n"
     ]
    }
   ],
   "source": [
    "help(my_list.insert)"
   ]
  },
  {
   "cell_type": "code",
   "execution_count": 38,
   "id": "9d75663b",
   "metadata": {},
   "outputs": [],
   "source": [
    "my_list.insert(2,35)"
   ]
  },
  {
   "cell_type": "code",
   "execution_count": 39,
   "id": "5a46774e",
   "metadata": {},
   "outputs": [
    {
     "data": {
      "text/plain": [
       "[100, 2, 35, 3, 4, 5, 6, 7, 8, 9, 10, 11]"
      ]
     },
     "execution_count": 39,
     "metadata": {},
     "output_type": "execute_result"
    }
   ],
   "source": [
    "my_list"
   ]
  },
  {
   "cell_type": "code",
   "execution_count": 40,
   "id": "2db20c44",
   "metadata": {},
   "outputs": [],
   "source": [
    "# insert(hangi indexe eklemek istediğin, eklemek istediğin) \n",
    "# şeklinde kullanılır"
   ]
  },
  {
   "cell_type": "code",
   "execution_count": 44,
   "id": "108d8dfc",
   "metadata": {},
   "outputs": [
    {
     "data": {
      "text/plain": [
       "2"
      ]
     },
     "execution_count": 44,
     "metadata": {},
     "output_type": "execute_result"
    }
   ],
   "source": [
    "my_list.pop(0) # pop ile listeden atmak istediğimiz şeyin index numarasını yazarak atabiliriz"
   ]
  },
  {
   "cell_type": "code",
   "execution_count": 43,
   "id": "af933c3b",
   "metadata": {},
   "outputs": [
    {
     "data": {
      "text/plain": [
       "[2, 35, 3, 4, 5, 6, 7, 8, 9, 10, 11]"
      ]
     },
     "execution_count": 43,
     "metadata": {},
     "output_type": "execute_result"
    }
   ],
   "source": [
    "my_list"
   ]
  },
  {
   "cell_type": "code",
   "execution_count": 45,
   "id": "e9564d6b",
   "metadata": {},
   "outputs": [],
   "source": [
    "my_list.remove(35) # remove ile hangi elemanı çıkartmak istediğimizi doğrudan yazarız."
   ]
  },
  {
   "cell_type": "code",
   "execution_count": 46,
   "id": "b5e5136e",
   "metadata": {},
   "outputs": [
    {
     "data": {
      "text/plain": [
       "[3, 4, 5, 6, 7, 8, 9, 10, 11]"
      ]
     },
     "execution_count": 46,
     "metadata": {},
     "output_type": "execute_result"
    }
   ],
   "source": [
    "my_list"
   ]
  },
  {
   "cell_type": "code",
   "execution_count": 52,
   "id": "5798f981",
   "metadata": {},
   "outputs": [],
   "source": [
    "my_list.sort() # sort -> listeyi sıralar"
   ]
  },
  {
   "cell_type": "code",
   "execution_count": 53,
   "id": "fe0ffaf1",
   "metadata": {},
   "outputs": [
    {
     "data": {
      "text/plain": [
       "[3, 4, 5, 6, 7, 8, 9, 10, 11]"
      ]
     },
     "execution_count": 53,
     "metadata": {},
     "output_type": "execute_result"
    }
   ],
   "source": [
    "my_list"
   ]
  },
  {
   "cell_type": "code",
   "execution_count": 54,
   "id": "9646db8a",
   "metadata": {},
   "outputs": [
    {
     "name": "stdout",
     "output_type": "stream",
     "text": [
      "Değer giriniz31\n"
     ]
    }
   ],
   "source": [
    "x = input(\"Değer giriniz\")"
   ]
  },
  {
   "cell_type": "code",
   "execution_count": 55,
   "id": "702de9a2",
   "metadata": {},
   "outputs": [
    {
     "data": {
      "text/plain": [
       "str"
      ]
     },
     "execution_count": 55,
     "metadata": {},
     "output_type": "execute_result"
    }
   ],
   "source": [
    "type(x)"
   ]
  },
  {
   "cell_type": "code",
   "execution_count": 56,
   "id": "765b4caf",
   "metadata": {},
   "outputs": [
    {
     "data": {
      "text/plain": [
       "'31'"
      ]
     },
     "execution_count": 56,
     "metadata": {},
     "output_type": "execute_result"
    }
   ],
   "source": [
    "x"
   ]
  },
  {
   "cell_type": "code",
   "execution_count": 57,
   "id": "7cdb18b7",
   "metadata": {},
   "outputs": [
    {
     "name": "stdout",
     "output_type": "stream",
     "text": [
      "Değer gir lan: 31\n"
     ]
    }
   ],
   "source": [
    "# inputtan gelen herşey str (string)dir \n",
    "y = input(\"Değer gir lan: \")"
   ]
  },
  {
   "cell_type": "code",
   "execution_count": 58,
   "id": "8b49aae9",
   "metadata": {},
   "outputs": [
    {
     "data": {
      "text/plain": [
       "'31'"
      ]
     },
     "execution_count": 58,
     "metadata": {},
     "output_type": "execute_result"
    }
   ],
   "source": [
    "y"
   ]
  },
  {
   "cell_type": "code",
   "execution_count": 59,
   "id": "db57d173",
   "metadata": {},
   "outputs": [
    {
     "data": {
      "text/plain": [
       "str"
      ]
     },
     "execution_count": 59,
     "metadata": {},
     "output_type": "execute_result"
    }
   ],
   "source": [
    "type(y)"
   ]
  },
  {
   "cell_type": "code",
   "execution_count": 60,
   "id": "ded40748",
   "metadata": {},
   "outputs": [],
   "source": [
    "input_list = []"
   ]
  },
  {
   "cell_type": "code",
   "execution_count": 61,
   "id": "c3cbae43",
   "metadata": {},
   "outputs": [],
   "source": [
    "input_list.append(x)"
   ]
  },
  {
   "cell_type": "code",
   "execution_count": 62,
   "id": "2a988732",
   "metadata": {},
   "outputs": [
    {
     "data": {
      "text/plain": [
       "['31']"
      ]
     },
     "execution_count": 62,
     "metadata": {},
     "output_type": "execute_result"
    }
   ],
   "source": [
    "input_list"
   ]
  },
  {
   "cell_type": "code",
   "execution_count": 63,
   "id": "f5ff4a9b",
   "metadata": {},
   "outputs": [],
   "source": [
    "input_list.append(y)"
   ]
  },
  {
   "cell_type": "code",
   "execution_count": 64,
   "id": "57392404",
   "metadata": {},
   "outputs": [
    {
     "data": {
      "text/plain": [
       "['31', '31']"
      ]
     },
     "execution_count": 64,
     "metadata": {},
     "output_type": "execute_result"
    }
   ],
   "source": [
    "input_list"
   ]
  },
  {
   "cell_type": "code",
   "execution_count": 65,
   "id": "3390ee0c",
   "metadata": {},
   "outputs": [
    {
     "data": {
      "text/plain": [
       "['31', '31', '31', '31']"
      ]
     },
     "execution_count": 65,
     "metadata": {},
     "output_type": "execute_result"
    }
   ],
   "source": [
    "input_list * 2"
   ]
  },
  {
   "cell_type": "code",
   "execution_count": 66,
   "id": "3b735da1",
   "metadata": {},
   "outputs": [
    {
     "data": {
      "text/plain": [
       "'3131'"
      ]
     },
     "execution_count": 66,
     "metadata": {},
     "output_type": "execute_result"
    }
   ],
   "source": [
    "input_list[0] * 2"
   ]
  },
  {
   "cell_type": "code",
   "execution_count": null,
   "id": "3b5940d3",
   "metadata": {},
   "outputs": [],
   "source": []
  }
 ],
 "metadata": {
  "kernelspec": {
   "display_name": "Python 3 (ipykernel)",
   "language": "python",
   "name": "python3"
  },
  "language_info": {
   "codemirror_mode": {
    "name": "ipython",
    "version": 3
   },
   "file_extension": ".py",
   "mimetype": "text/x-python",
   "name": "python",
   "nbconvert_exporter": "python",
   "pygments_lexer": "ipython3",
   "version": "3.11.5"
  }
 },
 "nbformat": 4,
 "nbformat_minor": 5
}

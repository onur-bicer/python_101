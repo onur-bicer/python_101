{
 "cells": [
  {
   "cell_type": "code",
   "execution_count": 1,
   "id": "8f7b2557",
   "metadata": {},
   "outputs": [
    {
     "name": "stdout",
     "output_type": "stream",
     "text": [
      "Hello World!\n"
     ]
    }
   ],
   "source": [
    "print(\"Hello World!\")"
   ]
  },
  {
   "cell_type": "code",
   "execution_count": 5,
   "id": "0c5df062",
   "metadata": {},
   "outputs": [
    {
     "data": {
      "text/plain": [
       "'Hello World'"
      ]
     },
     "execution_count": 5,
     "metadata": {},
     "output_type": "execute_result"
    }
   ],
   "source": [
    "# veya ikisini de kullanabilirim\n",
    "\"Hello World\"\n",
    "'Hello World'"
   ]
  },
  {
   "cell_type": "code",
   "execution_count": 7,
   "id": "51b53d34",
   "metadata": {},
   "outputs": [],
   "source": [
    "name = \"onur\""
   ]
  },
  {
   "cell_type": "code",
   "execution_count": 4,
   "id": "21273bb6",
   "metadata": {},
   "outputs": [
    {
     "data": {
      "text/plain": [
       "str"
      ]
     },
     "execution_count": 4,
     "metadata": {},
     "output_type": "execute_result"
    }
   ],
   "source": [
    "type(name)"
   ]
  },
  {
   "cell_type": "code",
   "execution_count": 8,
   "id": "0d3ac930",
   "metadata": {},
   "outputs": [
    {
     "data": {
      "text/plain": [
       "'Onur'"
      ]
     },
     "execution_count": 8,
     "metadata": {},
     "output_type": "execute_result"
    }
   ],
   "source": [
    "# değişken. yazıldığında kullanılabilecek özellikler karşımıza çıkar \n",
    "# örnek olarak capitalize kullanarak değişkenin ilk harfini büyük yapabiliriz\n",
    "\n",
    "name.capitalize()\n",
    "\n",
    "# peki () neden koyduk?\n",
    "# () koymak çalıştır demektir"
   ]
  },
  {
   "cell_type": "code",
   "execution_count": 9,
   "id": "2e840603",
   "metadata": {},
   "outputs": [
    {
     "data": {
      "text/plain": [
       "<function str.capitalize()>"
      ]
     },
     "execution_count": 9,
     "metadata": {},
     "output_type": "execute_result"
    }
   ],
   "source": [
    "name.capitalize"
   ]
  },
  {
   "cell_type": "code",
   "execution_count": 10,
   "id": "e60198a3",
   "metadata": {},
   "outputs": [],
   "source": [
    "# görüldüğü gibi hata aldık çünkü çalıştırmak için () koymadık\n",
    "# her zaman çalıştırmak da istemeyebiliriz bu yüzden kullanışlı bir özellik"
   ]
  },
  {
   "cell_type": "code",
   "execution_count": 11,
   "id": "da09671e",
   "metadata": {},
   "outputs": [],
   "source": [
    "x = 10"
   ]
  },
  {
   "cell_type": "code",
   "execution_count": 13,
   "id": "56ca8ae6",
   "metadata": {},
   "outputs": [],
   "source": [
    "# x. yazdığımızda string veri tipinden farklı olarak int için gerekli özellikler çıktı\n",
    "# veri tiplerinin neden ayrıldığını buradan da çıkartabiliriz"
   ]
  },
  {
   "cell_type": "markdown",
   "id": "b6a41d90",
   "metadata": {},
   "source": [
    "### Bu özellikleri nasıl öğrenirim?"
   ]
  },
  {
   "cell_type": "code",
   "execution_count": 21,
   "id": "e3191bf4",
   "metadata": {
    "scrolled": true
   },
   "outputs": [
    {
     "name": "stdout",
     "output_type": "stream",
     "text": [
      "Help on built-in function count:\n",
      "\n",
      "count(...) method of builtins.str instance\n",
      "    S.count(sub[, start[, end]]) -> int\n",
      "    \n",
      "    Return the number of non-overlapping occurrences of substring sub in\n",
      "    string S[start:end].  Optional arguments start and end are\n",
      "    interpreted as in slice notation.\n",
      "\n"
     ]
    }
   ],
   "source": [
    "help(name.count)"
   ]
  },
  {
   "cell_type": "code",
   "execution_count": 22,
   "id": "ceadb4b5",
   "metadata": {},
   "outputs": [],
   "source": [
    "# üstteki örnek gibi yol izlendiğinde gayet güzel bir şekilde açıklanıyor"
   ]
  },
  {
   "cell_type": "code",
   "execution_count": 23,
   "id": "1b363f70",
   "metadata": {},
   "outputs": [
    {
     "name": "stdout",
     "output_type": "stream",
     "text": [
      "Help on built-in function capitalize:\n",
      "\n",
      "capitalize() method of builtins.str instance\n",
      "    Return a capitalized version of the string.\n",
      "    \n",
      "    More specifically, make the first character have upper case and the rest lower\n",
      "    case.\n",
      "\n"
     ]
    }
   ],
   "source": [
    "help(name.capitalize)"
   ]
  },
  {
   "cell_type": "code",
   "execution_count": 24,
   "id": "31bd6b38",
   "metadata": {},
   "outputs": [
    {
     "name": "stdout",
     "output_type": "stream",
     "text": [
      "Help on built-in function casefold:\n",
      "\n",
      "casefold() method of builtins.str instance\n",
      "    Return a version of the string suitable for caseless comparisons.\n",
      "\n"
     ]
    }
   ],
   "source": [
    "help(name.casefold)"
   ]
  },
  {
   "cell_type": "code",
   "execution_count": 25,
   "id": "9f453b4e",
   "metadata": {},
   "outputs": [
    {
     "name": "stdout",
     "output_type": "stream",
     "text": [
      "Help on built-in function center:\n",
      "\n",
      "center(width, fillchar=' ', /) method of builtins.str instance\n",
      "    Return a centered string of length width.\n",
      "    \n",
      "    Padding is done using the specified fill character (default is a space).\n",
      "\n"
     ]
    }
   ],
   "source": [
    "help(name.center)"
   ]
  },
  {
   "cell_type": "code",
   "execution_count": 27,
   "id": "0e1e7d99",
   "metadata": {},
   "outputs": [
    {
     "name": "stdout",
     "output_type": "stream",
     "text": [
      "Help on built-in function find:\n",
      "\n",
      "find(...) method of builtins.str instance\n",
      "    S.find(sub[, start[, end]]) -> int\n",
      "    \n",
      "    Return the lowest index in S where substring sub is found,\n",
      "    such that sub is contained within S[start:end].  Optional\n",
      "    arguments start and end are interpreted as in slice notation.\n",
      "    \n",
      "    Return -1 on failure.\n",
      "\n"
     ]
    }
   ],
   "source": [
    "help(name.find)"
   ]
  },
  {
   "cell_type": "code",
   "execution_count": 29,
   "id": "0d8fb7ce",
   "metadata": {},
   "outputs": [
    {
     "name": "stdout",
     "output_type": "stream",
     "text": [
      "Help on built-in function istitle:\n",
      "\n",
      "istitle() method of builtins.str instance\n",
      "    Return True if the string is a title-cased string, False otherwise.\n",
      "    \n",
      "    In a title-cased string, upper- and title-case characters may only\n",
      "    follow uncased characters and lowercase characters only cased ones.\n",
      "\n"
     ]
    }
   ],
   "source": [
    "help(name.istitle)"
   ]
  },
  {
   "cell_type": "code",
   "execution_count": 30,
   "id": "ea6f20fe",
   "metadata": {
    "scrolled": true
   },
   "outputs": [
    {
     "data": {
      "text/plain": [
       "False"
      ]
     },
     "execution_count": 30,
     "metadata": {},
     "output_type": "execute_result"
    }
   ],
   "source": [
    "name.istitle()"
   ]
  },
  {
   "cell_type": "code",
   "execution_count": 35,
   "id": "5bc84a82",
   "metadata": {},
   "outputs": [
    {
     "name": "stdout",
     "output_type": "stream",
     "text": [
      "Help on built-in function count:\n",
      "\n",
      "count(...) method of builtins.str instance\n",
      "    S.count(sub[, start[, end]]) -> int\n",
      "    \n",
      "    Return the number of non-overlapping occurrences of substring sub in\n",
      "    string S[start:end].  Optional arguments start and end are\n",
      "    interpreted as in slice notation.\n",
      "\n"
     ]
    }
   ],
   "source": [
    "help(name.count)\n",
    "\n",
    "# name.count(\"harf\")\n",
    "# kaç tane belirttiğimiz harften olduğunu söyler"
   ]
  },
  {
   "cell_type": "code",
   "execution_count": 34,
   "id": "a09158a2",
   "metadata": {},
   "outputs": [
    {
     "data": {
      "text/plain": [
       "1"
      ]
     },
     "execution_count": 34,
     "metadata": {},
     "output_type": "execute_result"
    }
   ],
   "source": [
    "name.count(\"o\")"
   ]
  },
  {
   "cell_type": "code",
   "execution_count": 36,
   "id": "c43f7e77",
   "metadata": {},
   "outputs": [
    {
     "data": {
      "text/plain": [
       "1"
      ]
     },
     "execution_count": 36,
     "metadata": {},
     "output_type": "execute_result"
    }
   ],
   "source": [
    "name.count(\"r\")"
   ]
  },
  {
   "cell_type": "code",
   "execution_count": 37,
   "id": "cdc1aede",
   "metadata": {},
   "outputs": [
    {
     "data": {
      "text/plain": [
       "0"
      ]
     },
     "execution_count": 37,
     "metadata": {},
     "output_type": "execute_result"
    }
   ],
   "source": [
    "name.count(\"a\")"
   ]
  },
  {
   "cell_type": "code",
   "execution_count": 38,
   "id": "7998313c",
   "metadata": {},
   "outputs": [
    {
     "name": "stdout",
     "output_type": "stream",
     "text": [
      "Help on built-in function upper:\n",
      "\n",
      "upper() method of builtins.str instance\n",
      "    Return a copy of the string converted to uppercase.\n",
      "\n"
     ]
    }
   ],
   "source": [
    "help(name.upper)"
   ]
  },
  {
   "cell_type": "code",
   "execution_count": 39,
   "id": "3e98b0f1",
   "metadata": {},
   "outputs": [
    {
     "data": {
      "text/plain": [
       "'ONUR'"
      ]
     },
     "execution_count": 39,
     "metadata": {},
     "output_type": "execute_result"
    }
   ],
   "source": [
    "name.upper()"
   ]
  },
  {
   "cell_type": "code",
   "execution_count": 43,
   "id": "86e97aa4",
   "metadata": {},
   "outputs": [],
   "source": [
    "x = name + name"
   ]
  },
  {
   "cell_type": "code",
   "execution_count": 44,
   "id": "f89f9faa",
   "metadata": {},
   "outputs": [
    {
     "name": "stdout",
     "output_type": "stream",
     "text": [
      "onuronur\n"
     ]
    }
   ],
   "source": [
    "print(x)"
   ]
  },
  {
   "cell_type": "code",
   "execution_count": 45,
   "id": "832d8217",
   "metadata": {},
   "outputs": [
    {
     "name": "stdout",
     "output_type": "stream",
     "text": [
      "ONUR\n"
     ]
    }
   ],
   "source": [
    "print(name.upper())"
   ]
  },
  {
   "cell_type": "code",
   "execution_count": 46,
   "id": "00438396",
   "metadata": {},
   "outputs": [
    {
     "data": {
      "text/plain": [
       "4"
      ]
     },
     "execution_count": 46,
     "metadata": {},
     "output_type": "execute_result"
    }
   ],
   "source": [
    "len(name) # lenght -> uzunluk"
   ]
  },
  {
   "cell_type": "code",
   "execution_count": 47,
   "id": "4bf82517",
   "metadata": {},
   "outputs": [
    {
     "name": "stdout",
     "output_type": "stream",
     "text": [
      "onur \n",
      "biçer\n"
     ]
    }
   ],
   "source": [
    "# iki satırda yazdırmak için: \n",
    "\n",
    "print(\"onur \\nbiçer\")"
   ]
  },
  {
   "cell_type": "code",
   "execution_count": 49,
   "id": "d887ba09",
   "metadata": {},
   "outputs": [],
   "source": [
    "# bu tarz şeylere \"escape charters\" adı veriliyor\n",
    "\n",
    "# \\n -> new line (yeni satır)\n",
    "# \\t -> tab --> tab yapar ve boşluk bırakır"
   ]
  },
  {
   "cell_type": "code",
   "execution_count": 1,
   "id": "60ec4746",
   "metadata": {},
   "outputs": [
    {
     "name": "stdout",
     "output_type": "stream",
     "text": [
      "onur \tbiçer\n"
     ]
    }
   ],
   "source": [
    "print(\"onur \\tbiçer\")"
   ]
  },
  {
   "cell_type": "markdown",
   "id": "c61cf6b8",
   "metadata": {},
   "source": [
    "## index"
   ]
  },
  {
   "cell_type": "code",
   "execution_count": 2,
   "id": "574e2c1a",
   "metadata": {},
   "outputs": [],
   "source": [
    "myString = \"hello python\""
   ]
  },
  {
   "cell_type": "code",
   "execution_count": 3,
   "id": "05125e49",
   "metadata": {},
   "outputs": [
    {
     "data": {
      "text/plain": [
       "'o'"
      ]
     },
     "execution_count": 3,
     "metadata": {},
     "output_type": "execute_result"
    }
   ],
   "source": [
    "myString[4]"
   ]
  },
  {
   "cell_type": "code",
   "execution_count": 4,
   "id": "4959c9bc",
   "metadata": {},
   "outputs": [
    {
     "data": {
      "text/plain": [
       "' '"
      ]
     },
     "execution_count": 4,
     "metadata": {},
     "output_type": "execute_result"
    }
   ],
   "source": [
    "myString[5]"
   ]
  },
  {
   "cell_type": "code",
   "execution_count": 5,
   "id": "e473bd3c",
   "metadata": {},
   "outputs": [
    {
     "ename": "IndexError",
     "evalue": "string index out of range",
     "output_type": "error",
     "traceback": [
      "\u001b[1;31m---------------------------------------------------------------------------\u001b[0m",
      "\u001b[1;31mIndexError\u001b[0m                                Traceback (most recent call last)",
      "Cell \u001b[1;32mIn[5], line 1\u001b[0m\n\u001b[1;32m----> 1\u001b[0m myString[\u001b[38;5;241m12\u001b[39m]\n",
      "\u001b[1;31mIndexError\u001b[0m: string index out of range"
     ]
    }
   ],
   "source": [
    "myString[12]"
   ]
  },
  {
   "cell_type": "code",
   "execution_count": 7,
   "id": "e942df9a",
   "metadata": {},
   "outputs": [],
   "source": [
    "# string index out of range\n",
    "# h harfini 0 olarak kabul edip boşluk dahil saymaya başlarsak karakter sayısı 11 olur ve 12. yi getiremez "
   ]
  },
  {
   "cell_type": "code",
   "execution_count": 8,
   "id": "174e3195",
   "metadata": {},
   "outputs": [
    {
     "data": {
      "text/plain": [
       "'h'"
      ]
     },
     "execution_count": 8,
     "metadata": {},
     "output_type": "execute_result"
    }
   ],
   "source": [
    "myString[0]"
   ]
  },
  {
   "cell_type": "code",
   "execution_count": 9,
   "id": "38aadf28",
   "metadata": {},
   "outputs": [
    {
     "data": {
      "text/plain": [
       "'n'"
      ]
     },
     "execution_count": 9,
     "metadata": {},
     "output_type": "execute_result"
    }
   ],
   "source": [
    "myString[11]"
   ]
  },
  {
   "cell_type": "code",
   "execution_count": 10,
   "id": "d59e8d6d",
   "metadata": {},
   "outputs": [
    {
     "data": {
      "text/plain": [
       "12"
      ]
     },
     "execution_count": 10,
     "metadata": {},
     "output_type": "execute_result"
    }
   ],
   "source": [
    "len(myString)"
   ]
  },
  {
   "cell_type": "code",
   "execution_count": 12,
   "id": "0c9f0ba3",
   "metadata": {},
   "outputs": [],
   "source": [
    "# uzunluk - 1 -> index mantığı \n",
    "# ilki 1 değil de 0 olarak sayıldığı için len-1 diyebiliriz"
   ]
  },
  {
   "cell_type": "code",
   "execution_count": 13,
   "id": "b53d58f8",
   "metadata": {},
   "outputs": [
    {
     "data": {
      "text/plain": [
       "11"
      ]
     },
     "execution_count": 13,
     "metadata": {},
     "output_type": "execute_result"
    }
   ],
   "source": [
    "len(myString) - 1"
   ]
  },
  {
   "cell_type": "code",
   "execution_count": 14,
   "id": "9aa4d9a4",
   "metadata": {},
   "outputs": [],
   "source": [
    "myName = \"onur biçer\""
   ]
  },
  {
   "cell_type": "code",
   "execution_count": 15,
   "id": "0ad139c2",
   "metadata": {},
   "outputs": [
    {
     "data": {
      "text/plain": [
       "'r'"
      ]
     },
     "execution_count": 15,
     "metadata": {},
     "output_type": "execute_result"
    }
   ],
   "source": [
    "myName[len(myName)-1]"
   ]
  },
  {
   "cell_type": "code",
   "execution_count": 16,
   "id": "6b5dbe45",
   "metadata": {},
   "outputs": [
    {
     "data": {
      "text/plain": [
       "'r'"
      ]
     },
     "execution_count": 16,
     "metadata": {},
     "output_type": "execute_result"
    }
   ],
   "source": [
    "myName[-1]"
   ]
  },
  {
   "cell_type": "code",
   "execution_count": 17,
   "id": "d5135012",
   "metadata": {},
   "outputs": [],
   "source": [
    "# Python kolaylık sağlayarak len(myName)-1 yazmadan sadece -1 yazarak da aynı sonucu alabiliriz"
   ]
  },
  {
   "cell_type": "code",
   "execution_count": 18,
   "id": "f7f0b740",
   "metadata": {},
   "outputs": [
    {
     "data": {
      "text/plain": [
       "'e'"
      ]
     },
     "execution_count": 18,
     "metadata": {},
     "output_type": "execute_result"
    }
   ],
   "source": [
    "myName[-2]"
   ]
  },
  {
   "cell_type": "code",
   "execution_count": 19,
   "id": "813d0c95",
   "metadata": {},
   "outputs": [
    {
     "data": {
      "text/plain": [
       "'ç'"
      ]
     },
     "execution_count": 19,
     "metadata": {},
     "output_type": "execute_result"
    }
   ],
   "source": [
    "myName[-3]"
   ]
  },
  {
   "cell_type": "code",
   "execution_count": 20,
   "id": "bdfdcfa6",
   "metadata": {},
   "outputs": [],
   "source": [
    "barcode = \"ABCDE23125435\""
   ]
  },
  {
   "cell_type": "code",
   "execution_count": 21,
   "id": "e84887f2",
   "metadata": {},
   "outputs": [
    {
     "data": {
      "text/plain": [
       "'A'"
      ]
     },
     "execution_count": 21,
     "metadata": {},
     "output_type": "execute_result"
    }
   ],
   "source": [
    "barcode[0]"
   ]
  },
  {
   "cell_type": "code",
   "execution_count": 22,
   "id": "7f0fc474",
   "metadata": {},
   "outputs": [
    {
     "data": {
      "text/plain": [
       "'B'"
      ]
     },
     "execution_count": 22,
     "metadata": {},
     "output_type": "execute_result"
    }
   ],
   "source": [
    "barcode[1]"
   ]
  },
  {
   "cell_type": "code",
   "execution_count": 23,
   "id": "f2cbdc5a",
   "metadata": {},
   "outputs": [
    {
     "data": {
      "text/plain": [
       "'C'"
      ]
     },
     "execution_count": 23,
     "metadata": {},
     "output_type": "execute_result"
    }
   ],
   "source": [
    "barcode[2]"
   ]
  },
  {
   "cell_type": "code",
   "execution_count": 25,
   "id": "a8500f24",
   "metadata": {},
   "outputs": [],
   "source": [
    "# diyelim ki ilk 3 harfini kullanmak istiyoruz veya istemiyoruz\n",
    "# zaten halihazırdaki bilgilerimizile de yapabiliriz ama bunun için özel olarak üretilmiş bir fonksiyon mevcut"
   ]
  },
  {
   "cell_type": "code",
   "execution_count": 27,
   "id": "754ff00b",
   "metadata": {},
   "outputs": [
    {
     "data": {
      "text/plain": [
       "'AB'"
      ]
     },
     "execution_count": 27,
     "metadata": {},
     "output_type": "execute_result"
    }
   ],
   "source": [
    "\"A\" + \"B\""
   ]
  },
  {
   "cell_type": "code",
   "execution_count": 29,
   "id": "12ea0fb3",
   "metadata": {},
   "outputs": [],
   "source": [
    "name = \"onur\""
   ]
  },
  {
   "cell_type": "code",
   "execution_count": 30,
   "id": "e4bd0810",
   "metadata": {},
   "outputs": [],
   "source": [
    "surname = \"biçer\""
   ]
  },
  {
   "cell_type": "code",
   "execution_count": 44,
   "id": "b205872c",
   "metadata": {},
   "outputs": [],
   "source": [
    "fullname = name + \" \" + surname"
   ]
  },
  {
   "cell_type": "code",
   "execution_count": 46,
   "id": "4edf8106",
   "metadata": {},
   "outputs": [
    {
     "data": {
      "text/plain": [
       "'onur biçer'"
      ]
     },
     "execution_count": 46,
     "metadata": {},
     "output_type": "execute_result"
    }
   ],
   "source": [
    "fullname"
   ]
  },
  {
   "cell_type": "code",
   "execution_count": 47,
   "id": "7b3a71ae",
   "metadata": {},
   "outputs": [
    {
     "data": {
      "text/plain": [
       "'aaaaaaaaaaaaaaaaaaaaaaaaaaaaaaaaaaaaaaaaaaaaaaaaaaaaaaaaaaaaaaaaaaaaaaaaaaaaaaaaaaaaaaaaaaaaaaaaaaaa'"
      ]
     },
     "execution_count": 47,
     "metadata": {},
     "output_type": "execute_result"
    }
   ],
   "source": [
    "100 * \"a\""
   ]
  },
  {
   "cell_type": "code",
   "execution_count": 48,
   "id": "f56613b3",
   "metadata": {},
   "outputs": [
    {
     "data": {
      "text/plain": [
       "'onur biçeronur biçeronur biçeronur biçeronur biçer'"
      ]
     },
     "execution_count": 48,
     "metadata": {},
     "output_type": "execute_result"
    }
   ],
   "source": [
    "fullname * 5"
   ]
  },
  {
   "cell_type": "code",
   "execution_count": 49,
   "id": "8769d9d7",
   "metadata": {},
   "outputs": [
    {
     "ename": "TypeError",
     "evalue": "unsupported operand type(s) for /: 'str' and 'int'",
     "output_type": "error",
     "traceback": [
      "\u001b[1;31m---------------------------------------------------------------------------\u001b[0m",
      "\u001b[1;31mTypeError\u001b[0m                                 Traceback (most recent call last)",
      "Cell \u001b[1;32mIn[49], line 1\u001b[0m\n\u001b[1;32m----> 1\u001b[0m fullname \u001b[38;5;241m/\u001b[39m \u001b[38;5;241m5\u001b[39m\n",
      "\u001b[1;31mTypeError\u001b[0m: unsupported operand type(s) for /: 'str' and 'int'"
     ]
    }
   ],
   "source": [
    "fullname / 5"
   ]
  },
  {
   "cell_type": "code",
   "execution_count": 50,
   "id": "e2a1ca0c",
   "metadata": {},
   "outputs": [
    {
     "data": {
      "text/plain": [
       "'ABC'"
      ]
     },
     "execution_count": 50,
     "metadata": {},
     "output_type": "execute_result"
    }
   ],
   "source": [
    "barcode[0] + barcode[1] + barcode [2]"
   ]
  },
  {
   "cell_type": "code",
   "execution_count": 51,
   "id": "3edc8258",
   "metadata": {},
   "outputs": [],
   "source": [
    "# ilk 3 harfini almak istesem böyle alabilirim"
   ]
  },
  {
   "cell_type": "code",
   "execution_count": 52,
   "id": "006938ef",
   "metadata": {},
   "outputs": [
    {
     "data": {
      "text/plain": [
       "'ABCDE23125435'"
      ]
     },
     "execution_count": 52,
     "metadata": {},
     "output_type": "execute_result"
    }
   ],
   "source": [
    "barcode"
   ]
  },
  {
   "cell_type": "code",
   "execution_count": 53,
   "id": "bb9690ed",
   "metadata": {},
   "outputs": [],
   "source": [
    " # slicing, starting index, stopping index, stepping size "
   ]
  },
  {
   "cell_type": "code",
   "execution_count": 54,
   "id": "bf7207fa",
   "metadata": {},
   "outputs": [
    {
     "data": {
      "text/plain": [
       "'ABCDE23125435'"
      ]
     },
     "execution_count": 54,
     "metadata": {},
     "output_type": "execute_result"
    }
   ],
   "source": [
    "barcode[::]"
   ]
  },
  {
   "cell_type": "code",
   "execution_count": 55,
   "id": "16ba3e10",
   "metadata": {},
   "outputs": [
    {
     "data": {
      "text/plain": [
       "'ABC'"
      ]
     },
     "execution_count": 55,
     "metadata": {},
     "output_type": "execute_result"
    }
   ],
   "source": [
    "barcode[:3:]"
   ]
  },
  {
   "cell_type": "code",
   "execution_count": 56,
   "id": "cbd05023",
   "metadata": {},
   "outputs": [
    {
     "data": {
      "text/plain": [
       "'ABCDE'"
      ]
     },
     "execution_count": 56,
     "metadata": {},
     "output_type": "execute_result"
    }
   ],
   "source": [
    "barcode[:5:]"
   ]
  },
  {
   "cell_type": "code",
   "execution_count": 58,
   "id": "8da9742a",
   "metadata": {},
   "outputs": [],
   "source": [
    "#barcode[starting index:stopping index:stepping size]\n",
    "# nerden başlayalım, nerede duralım, kaçar kaçar ilerleyelim"
   ]
  },
  {
   "cell_type": "code",
   "execution_count": 59,
   "id": "7e6f2f1d",
   "metadata": {},
   "outputs": [
    {
     "data": {
      "text/plain": [
       "'BCDE23125435'"
      ]
     },
     "execution_count": 59,
     "metadata": {},
     "output_type": "execute_result"
    }
   ],
   "source": [
    "barcode[1::]"
   ]
  },
  {
   "cell_type": "code",
   "execution_count": 62,
   "id": "f8b7b526",
   "metadata": {},
   "outputs": [
    {
     "data": {
      "text/plain": [
       "'ABC'"
      ]
     },
     "execution_count": 62,
     "metadata": {},
     "output_type": "execute_result"
    }
   ],
   "source": [
    "barcode[0:3:]"
   ]
  },
  {
   "cell_type": "code",
   "execution_count": 66,
   "id": "c4b480b7",
   "metadata": {},
   "outputs": [
    {
     "data": {
      "text/plain": [
       "'BCDE'"
      ]
     },
     "execution_count": 66,
     "metadata": {},
     "output_type": "execute_result"
    }
   ],
   "source": [
    "barcode[1:5:1]"
   ]
  },
  {
   "cell_type": "code",
   "execution_count": 67,
   "id": "4d56d768",
   "metadata": {},
   "outputs": [
    {
     "data": {
      "text/plain": [
       "'ABCDE23125435'"
      ]
     },
     "execution_count": 67,
     "metadata": {},
     "output_type": "execute_result"
    }
   ],
   "source": [
    "barcode"
   ]
  },
  {
   "cell_type": "code",
   "execution_count": 68,
   "id": "c65c8e01",
   "metadata": {},
   "outputs": [
    {
     "data": {
      "text/plain": [
       "'DE23125435'"
      ]
     },
     "execution_count": 68,
     "metadata": {},
     "output_type": "execute_result"
    }
   ],
   "source": [
    "barcode[3::]"
   ]
  },
  {
   "cell_type": "code",
   "execution_count": 69,
   "id": "80218e6d",
   "metadata": {},
   "outputs": [
    {
     "data": {
      "text/plain": [
       "'BCDE23125435'"
      ]
     },
     "execution_count": 69,
     "metadata": {},
     "output_type": "execute_result"
    }
   ],
   "source": [
    "barcode[1::]"
   ]
  },
  {
   "cell_type": "code",
   "execution_count": 70,
   "id": "2205bafc",
   "metadata": {},
   "outputs": [
    {
     "data": {
      "text/plain": [
       "'DE23125435'"
      ]
     },
     "execution_count": 70,
     "metadata": {},
     "output_type": "execute_result"
    }
   ],
   "source": [
    "barcode[3::]"
   ]
  },
  {
   "cell_type": "code",
   "execution_count": 71,
   "id": "63e15c40",
   "metadata": {},
   "outputs": [],
   "source": [
    "# sadece DE kısmını almak istiyorum diyelim ki"
   ]
  },
  {
   "cell_type": "code",
   "execution_count": 72,
   "id": "90427a68",
   "metadata": {},
   "outputs": [
    {
     "data": {
      "text/plain": [
       "'DE2'"
      ]
     },
     "execution_count": 72,
     "metadata": {},
     "output_type": "execute_result"
    }
   ],
   "source": [
    "barcode[3:6:1]"
   ]
  },
  {
   "cell_type": "code",
   "execution_count": 73,
   "id": "1075d386",
   "metadata": {},
   "outputs": [
    {
     "data": {
      "text/plain": [
       "'DE'"
      ]
     },
     "execution_count": 73,
     "metadata": {},
     "output_type": "execute_result"
    }
   ],
   "source": [
    "barcode[3:5:1]"
   ]
  },
  {
   "cell_type": "code",
   "execution_count": 76,
   "id": "d75751cb",
   "metadata": {},
   "outputs": [
    {
     "data": {
      "text/plain": [
       "'53452132EDCBA'"
      ]
     },
     "execution_count": 76,
     "metadata": {},
     "output_type": "execute_result"
    }
   ],
   "source": [
    "barcode[::-1] #-1 yazarsak tersten başlatır"
   ]
  },
  {
   "cell_type": "code",
   "execution_count": 77,
   "id": "9f1a0e4e",
   "metadata": {},
   "outputs": [
    {
     "name": "stdout",
     "output_type": "stream",
     "text": [
      "Help on built-in function index:\n",
      "\n",
      "index(...) method of builtins.str instance\n",
      "    S.index(sub[, start[, end]]) -> int\n",
      "    \n",
      "    Return the lowest index in S where substring sub is found,\n",
      "    such that sub is contained within S[start:end].  Optional\n",
      "    arguments start and end are interpreted as in slice notation.\n",
      "    \n",
      "    Raises ValueError when the substring is not found.\n",
      "\n"
     ]
    }
   ],
   "source": [
    "help(name.index)"
   ]
  },
  {
   "cell_type": "code",
   "execution_count": 86,
   "id": "d41dd825",
   "metadata": {},
   "outputs": [
    {
     "data": {
      "text/plain": [
       "1"
      ]
     },
     "execution_count": 86,
     "metadata": {},
     "output_type": "execute_result"
    }
   ],
   "source": [
    "# name.index(\"harf\") -> kaçıncı indexte olduğunu gösterir, örnekleri incele\n",
    "name.index(\"n\")"
   ]
  },
  {
   "cell_type": "code",
   "execution_count": 87,
   "id": "51ddf5c8",
   "metadata": {},
   "outputs": [
    {
     "data": {
      "text/plain": [
       "3"
      ]
     },
     "execution_count": 87,
     "metadata": {},
     "output_type": "execute_result"
    }
   ],
   "source": [
    "name.index(\"r\")"
   ]
  },
  {
   "cell_type": "code",
   "execution_count": 88,
   "id": "e2808dec",
   "metadata": {},
   "outputs": [
    {
     "data": {
      "text/plain": [
       "['onur']"
      ]
     },
     "execution_count": 88,
     "metadata": {},
     "output_type": "execute_result"
    }
   ],
   "source": [
    "name.split()"
   ]
  },
  {
   "cell_type": "code",
   "execution_count": 89,
   "id": "44ced6ed",
   "metadata": {},
   "outputs": [
    {
     "data": {
      "text/plain": [
       "list"
      ]
     },
     "execution_count": 89,
     "metadata": {},
     "output_type": "execute_result"
    }
   ],
   "source": [
    "type(name.split())"
   ]
  },
  {
   "cell_type": "code",
   "execution_count": null,
   "id": "b53fc3ca",
   "metadata": {},
   "outputs": [],
   "source": []
  }
 ],
 "metadata": {
  "kernelspec": {
   "display_name": "Python 3 (ipykernel)",
   "language": "python",
   "name": "python3"
  },
  "language_info": {
   "codemirror_mode": {
    "name": "ipython",
    "version": 3
   },
   "file_extension": ".py",
   "mimetype": "text/x-python",
   "name": "python",
   "nbconvert_exporter": "python",
   "pygments_lexer": "ipython3",
   "version": "3.11.5"
  }
 },
 "nbformat": 4,
 "nbformat_minor": 5
}

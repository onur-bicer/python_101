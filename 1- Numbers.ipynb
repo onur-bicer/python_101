{
 "cells": [
  {
   "cell_type": "code",
   "execution_count": 1,
   "id": "f632b4d6",
   "metadata": {},
   "outputs": [],
   "source": [
    "# Data types "
   ]
  },
  {
   "cell_type": "code",
   "execution_count": 2,
   "id": "6be5072a",
   "metadata": {},
   "outputs": [
    {
     "data": {
      "text/plain": [
       "int"
      ]
     },
     "execution_count": 2,
     "metadata": {},
     "output_type": "execute_result"
    }
   ],
   "source": [
    "type(10)"
   ]
  },
  {
   "cell_type": "code",
   "execution_count": 4,
   "id": "d8aebde2",
   "metadata": {},
   "outputs": [
    {
     "data": {
      "text/plain": [
       "int"
      ]
     },
     "execution_count": 4,
     "metadata": {},
     "output_type": "execute_result"
    }
   ],
   "source": [
    "type(10*3)"
   ]
  },
  {
   "cell_type": "code",
   "execution_count": 7,
   "id": "41914611",
   "metadata": {},
   "outputs": [
    {
     "data": {
      "text/plain": [
       "float"
      ]
     },
     "execution_count": 7,
     "metadata": {},
     "output_type": "execute_result"
    }
   ],
   "source": [
    "type(10/3)"
   ]
  },
  {
   "cell_type": "code",
   "execution_count": 8,
   "id": "8a2a964c",
   "metadata": {},
   "outputs": [
    {
     "data": {
      "text/plain": [
       "float"
      ]
     },
     "execution_count": 8,
     "metadata": {},
     "output_type": "execute_result"
    }
   ],
   "source": [
    "type(3.14)"
   ]
  },
  {
   "cell_type": "code",
   "execution_count": 9,
   "id": "c8fd5b79",
   "metadata": {},
   "outputs": [],
   "source": [
    "# int -> integer (tam sayı)"
   ]
  },
  {
   "cell_type": "code",
   "execution_count": 10,
   "id": "74b5dd21",
   "metadata": {},
   "outputs": [],
   "source": [
    "# float -> floating point\n",
    "# tam sayı değilse float idir."
   ]
  },
  {
   "cell_type": "code",
   "execution_count": 13,
   "id": "319b8e7a",
   "metadata": {},
   "outputs": [
    {
     "data": {
      "text/plain": [
       "float"
      ]
     },
     "execution_count": 13,
     "metadata": {},
     "output_type": "execute_result"
    }
   ],
   "source": [
    "myFloat = 3.21321\n",
    "type(myFloat)"
   ]
  },
  {
   "cell_type": "code",
   "execution_count": 12,
   "id": "e37f382c",
   "metadata": {},
   "outputs": [],
   "source": [
    "# Değişken atama kuralları \n",
    "# camelCase -> deve gösterimi \n",
    "# snake_case -> yılan gösterimi"
   ]
  },
  {
   "cell_type": "markdown",
   "id": "dd04adf8",
   "metadata": {},
   "source": [
    "#  int vs float"
   ]
  },
  {
   "cell_type": "code",
   "execution_count": 15,
   "id": "082f77ed",
   "metadata": {},
   "outputs": [
    {
     "data": {
      "text/plain": [
       "float"
      ]
     },
     "execution_count": 15,
     "metadata": {},
     "output_type": "execute_result"
    }
   ],
   "source": [
    "type(40 / 4)"
   ]
  },
  {
   "cell_type": "code",
   "execution_count": 16,
   "id": "6c1f2197",
   "metadata": {},
   "outputs": [],
   "source": [
    "# 40/4 = 10 \n",
    "# olmasına rağmen neden type float oldu?\n",
    "# iki tam sayıyı birbirine bölünce kesirli sayı çıkma olasılığı daha fazla olduğu için python geliştiricileri int/int=float olarak karar vermişler\n",
    "# bu yazılım diline göre değişkenlik gösterir"
   ]
  },
  {
   "cell_type": "code",
   "execution_count": 17,
   "id": "db716409",
   "metadata": {},
   "outputs": [
    {
     "data": {
      "text/plain": [
       "13.333333333333334"
      ]
     },
     "execution_count": 17,
     "metadata": {},
     "output_type": "execute_result"
    }
   ],
   "source": [
    "40 / 3"
   ]
  },
  {
   "cell_type": "code",
   "execution_count": 18,
   "id": "b77d3c7a",
   "metadata": {},
   "outputs": [
    {
     "data": {
      "text/plain": [
       "10.0"
      ]
     },
     "execution_count": 18,
     "metadata": {},
     "output_type": "execute_result"
    }
   ],
   "source": [
    "40 / 4"
   ]
  },
  {
   "cell_type": "code",
   "execution_count": 21,
   "id": "6267eccc",
   "metadata": {},
   "outputs": [
    {
     "data": {
      "text/plain": [
       "int"
      ]
     },
     "execution_count": 21,
     "metadata": {},
     "output_type": "execute_result"
    }
   ],
   "source": [
    "type(4)"
   ]
  },
  {
   "cell_type": "code",
   "execution_count": 22,
   "id": "b98f811f",
   "metadata": {},
   "outputs": [
    {
     "data": {
      "text/plain": [
       "float"
      ]
     },
     "execution_count": 22,
     "metadata": {},
     "output_type": "execute_result"
    }
   ],
   "source": [
    "type(4.0)"
   ]
  },
  {
   "cell_type": "code",
   "execution_count": 23,
   "id": "46eb9f95",
   "metadata": {},
   "outputs": [],
   "source": [
    "# 2** 9 -> iki üssü 9 "
   ]
  },
  {
   "cell_type": "code",
   "execution_count": 24,
   "id": "f6b6794a",
   "metadata": {},
   "outputs": [
    {
     "data": {
      "text/plain": [
       "512"
      ]
     },
     "execution_count": 24,
     "metadata": {},
     "output_type": "execute_result"
    }
   ],
   "source": [
    "2 ** 9"
   ]
  },
  {
   "cell_type": "code",
   "execution_count": 25,
   "id": "bcf03151",
   "metadata": {},
   "outputs": [
    {
     "data": {
      "text/plain": [
       "27"
      ]
     },
     "execution_count": 25,
     "metadata": {},
     "output_type": "execute_result"
    }
   ],
   "source": [
    "3 ** 3"
   ]
  },
  {
   "cell_type": "code",
   "execution_count": 29,
   "id": "2df991e6",
   "metadata": {},
   "outputs": [
    {
     "data": {
      "text/plain": [
       "1"
      ]
     },
     "execution_count": 29,
     "metadata": {},
     "output_type": "execute_result"
    }
   ],
   "source": [
    "# remainder\n",
    "# 10 % 3 -> 10'u 3'e böl kalanını al\n",
    "\n",
    "10 % 3"
   ]
  },
  {
   "cell_type": "code",
   "execution_count": 30,
   "id": "3f6e8efc",
   "metadata": {},
   "outputs": [
    {
     "data": {
      "text/plain": [
       "2"
      ]
     },
     "execution_count": 30,
     "metadata": {},
     "output_type": "execute_result"
    }
   ],
   "source": [
    "10 % 4"
   ]
  },
  {
   "cell_type": "code",
   "execution_count": null,
   "id": "1449b327",
   "metadata": {},
   "outputs": [],
   "source": []
  }
 ],
 "metadata": {
  "kernelspec": {
   "display_name": "Python 3 (ipykernel)",
   "language": "python",
   "name": "python3"
  },
  "language_info": {
   "codemirror_mode": {
    "name": "ipython",
    "version": 3
   },
   "file_extension": ".py",
   "mimetype": "text/x-python",
   "name": "python",
   "nbconvert_exporter": "python",
   "pygments_lexer": "ipython3",
   "version": "3.11.5"
  }
 },
 "nbformat": 4,
 "nbformat_minor": 5
}
